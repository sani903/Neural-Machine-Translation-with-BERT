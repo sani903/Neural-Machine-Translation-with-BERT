{
 "cells": [
  {
   "cell_type": "markdown",
   "id": "04461dd6",
   "metadata": {},
   "source": [
    "# Setting up the environment"
   ]
  },
  {
   "cell_type": "markdown",
   "id": "db8ba617",
   "metadata": {},
   "source": [
    "## Importing relevant libraries"
   ]
  },
  {
   "cell_type": "code",
   "execution_count": 1,
   "id": "e2a7aa57",
   "metadata": {
    "ExecuteTime": {
     "end_time": "2022-08-23T18:35:16.556988Z",
     "start_time": "2022-08-23T18:35:14.135460Z"
    }
   },
   "outputs": [
    {
     "name": "stdout",
     "output_type": "stream",
     "text": [
      "Init Plugin\n",
      "Init Graph Optimizer\n",
      "Init Kernel\n"
     ]
    }
   ],
   "source": [
    "#__future__ to bring features from newer versions of Python \n",
    "# from __future__ import absolute_import, division, print_function, unicode_literals\n",
    "import tensorflow as tf\n",
    "import tensorflow_hub as hub\n",
    "import tensorflow_datasets as tfds\n",
    "\n",
    "import string\n",
    "from string import digits\n",
    "import re\n",
    "import time\n",
    "import numpy as np\n",
    "import pandas as pd\n",
    "import collections\n",
    "import unicodedata\n",
    "\n",
    "import os\n",
    "\n",
    "from bert import BertModelLayer\n",
    "from bert.loader import StockBertConfig, load_stock_weights"
   ]
  },
  {
   "cell_type": "code",
   "execution_count": 2,
   "id": "7677532b",
   "metadata": {
    "ExecuteTime": {
     "end_time": "2022-08-23T18:35:16.563053Z",
     "start_time": "2022-08-23T18:35:16.557916Z"
    }
   },
   "outputs": [
    {
     "name": "stdout",
     "output_type": "stream",
     "text": [
      "WARNING:tensorflow:From /var/folders/jd/ll0by25n4ln09rznyqbztdyw0000gn/T/ipykernel_90191/3505786474.py:2: is_gpu_available (from tensorflow.python.framework.test_util) is deprecated and will be removed in a future version.\n",
      "Instructions for updating:\n",
      "Use `tf.config.list_physical_devices('GPU')` instead.\n",
      "GPU Available: Metal device set to: Apple M1\n",
      " True\n"
     ]
    },
    {
     "name": "stderr",
     "output_type": "stream",
     "text": [
      "2022-08-24 00:05:16.559618: I tensorflow/core/common_runtime/pluggable_device/pluggable_device_factory.cc:305] Could not identify NUMA node of platform GPU ID 0, defaulting to 0. Your kernel may not have been built with NUMA support.\n",
      "2022-08-24 00:05:16.559716: I tensorflow/core/common_runtime/pluggable_device/pluggable_device_factory.cc:271] Created TensorFlow device (/device:GPU:0 with 0 MB memory) -> physical PluggableDevice (device: 0, name: METAL, pci bus id: <undefined>)\n"
     ]
    }
   ],
   "source": [
    "tf.config.list_physical_devices('GPU')\n",
    "print(\"GPU Available: \", tf.test.is_gpu_available())"
   ]
  },
  {
   "cell_type": "markdown",
   "id": "660fd8cb",
   "metadata": {},
   "source": [
    "## Cleaning the data"
   ]
  },
  {
   "cell_type": "code",
   "execution_count": 3,
   "id": "91660001",
   "metadata": {
    "ExecuteTime": {
     "end_time": "2022-08-23T18:35:16.571882Z",
     "start_time": "2022-08-23T18:35:16.563654Z"
    }
   },
   "outputs": [],
   "source": [
    "#reading data from NLD-ENG translation dataset\n",
    "with open('nld-eng/nld.txt','r') as f:\n",
    "  data = f.read()"
   ]
  },
  {
   "cell_type": "code",
   "execution_count": 4,
   "id": "c1de78cd",
   "metadata": {
    "ExecuteTime": {
     "end_time": "2022-08-23T18:35:16.589901Z",
     "start_time": "2022-08-23T18:35:16.573091Z"
    }
   },
   "outputs": [
    {
     "data": {
      "text/plain": [
       "68954"
      ]
     },
     "execution_count": 4,
     "metadata": {},
     "output_type": "execute_result"
    }
   ],
   "source": [
    "#removing trailing and leading characters\n",
    "#creating list of word translations by splitting on new line\n",
    "uncleaned_data_list = data.strip().split('\\n')\n",
    "len(uncleaned_data_list)"
   ]
  },
  {
   "cell_type": "code",
   "execution_count": 5,
   "id": "c4588a6d",
   "metadata": {
    "ExecuteTime": {
     "end_time": "2022-08-23T18:35:16.592724Z",
     "start_time": "2022-08-23T18:35:16.590616Z"
    }
   },
   "outputs": [
    {
     "name": "stdout",
     "output_type": "stream",
     "text": [
      "Hi.\tHai!\tCC-BY 2.0 (France) Attribution: tatoeba.org #538123 (CM) & #6117420 (Raizin)\n"
     ]
    }
   ],
   "source": [
    "print(uncleaned_data_list[4])"
   ]
  },
  {
   "cell_type": "code",
   "execution_count": 6,
   "id": "b7b62070",
   "metadata": {
    "ExecuteTime": {
     "end_time": "2022-08-23T18:35:16.596678Z",
     "start_time": "2022-08-23T18:35:16.593525Z"
    }
   },
   "outputs": [
    {
     "name": "stdout",
     "output_type": "stream",
     "text": [
      "['Go.', 'Lopen!', 'CC-BY 2.0 (France) Attribution: tatoeba.org #2877272 (CM) & #7764436 (LinguisticFusion)']\n"
     ]
    }
   ],
   "source": [
    "for word in uncleaned_data_list:\n",
    "    print(word.split('\\t'))\n",
    "    break"
   ]
  },
  {
   "cell_type": "code",
   "execution_count": 7,
   "id": "c47d50e9",
   "metadata": {
    "ExecuteTime": {
     "end_time": "2022-08-23T18:35:16.599249Z",
     "start_time": "2022-08-23T18:35:16.597427Z"
    }
   },
   "outputs": [
    {
     "name": "stdout",
     "output_type": "stream",
     "text": [
      "['Go.', 'Lopen!']\n"
     ]
    }
   ],
   "source": [
    "for word in uncleaned_data_list:\n",
    "    print(word.split('\\t')[:-1])\n",
    "    break"
   ]
  },
  {
   "cell_type": "code",
   "execution_count": 8,
   "id": "97a0cbeb",
   "metadata": {
    "ExecuteTime": {
     "end_time": "2022-08-23T18:35:16.638075Z",
     "start_time": "2022-08-23T18:35:16.599878Z"
    }
   },
   "outputs": [],
   "source": [
    "#separating english and dutch words \n",
    "eng_word = []\n",
    "nld_word = []\n",
    "for word in uncleaned_data_list:\n",
    "    eng_word.append(word.split('\\t')[:-1][0])\n",
    "    nld_word.append(word.split('\\t')[:-1][1])"
   ]
  },
  {
   "cell_type": "code",
   "execution_count": 9,
   "id": "e2668d3b",
   "metadata": {
    "ExecuteTime": {
     "end_time": "2022-08-23T18:35:16.656135Z",
     "start_time": "2022-08-23T18:35:16.638812Z"
    }
   },
   "outputs": [],
   "source": [
    "#creating pandas df with english words and their dutch equivalents\n",
    "data = pd.DataFrame(columns=['English','Dutch'])\n",
    "data['English'] = eng_word\n",
    "data['Dutch'] = nld_word"
   ]
  },
  {
   "cell_type": "code",
   "execution_count": 10,
   "id": "e2c54576",
   "metadata": {
    "ExecuteTime": {
     "end_time": "2022-08-23T18:35:16.735737Z",
     "start_time": "2022-08-23T18:35:16.658022Z"
    }
   },
   "outputs": [],
   "source": [
    "data.to_csv('data.csv', index=False)"
   ]
  },
  {
   "cell_type": "code",
   "execution_count": 11,
   "id": "ee046ab4",
   "metadata": {
    "ExecuteTime": {
     "end_time": "2022-08-23T18:35:16.792051Z",
     "start_time": "2022-08-23T18:35:16.736804Z"
    }
   },
   "outputs": [
    {
     "data": {
      "text/html": [
       "<div>\n",
       "<style scoped>\n",
       "    .dataframe tbody tr th:only-of-type {\n",
       "        vertical-align: middle;\n",
       "    }\n",
       "\n",
       "    .dataframe tbody tr th {\n",
       "        vertical-align: top;\n",
       "    }\n",
       "\n",
       "    .dataframe thead th {\n",
       "        text-align: right;\n",
       "    }\n",
       "</style>\n",
       "<table border=\"1\" class=\"dataframe\">\n",
       "  <thead>\n",
       "    <tr style=\"text-align: right;\">\n",
       "      <th></th>\n",
       "      <th>English</th>\n",
       "      <th>Dutch</th>\n",
       "    </tr>\n",
       "  </thead>\n",
       "  <tbody>\n",
       "    <tr>\n",
       "      <th>0</th>\n",
       "      <td>Go.</td>\n",
       "      <td>Lopen!</td>\n",
       "    </tr>\n",
       "    <tr>\n",
       "      <th>1</th>\n",
       "      <td>Go.</td>\n",
       "      <td>Vooruit.</td>\n",
       "    </tr>\n",
       "    <tr>\n",
       "      <th>2</th>\n",
       "      <td>Hi.</td>\n",
       "      <td>Hoi.</td>\n",
       "    </tr>\n",
       "    <tr>\n",
       "      <th>3</th>\n",
       "      <td>Hi.</td>\n",
       "      <td>Hé!</td>\n",
       "    </tr>\n",
       "    <tr>\n",
       "      <th>4</th>\n",
       "      <td>Hi.</td>\n",
       "      <td>Hai!</td>\n",
       "    </tr>\n",
       "  </tbody>\n",
       "</table>\n",
       "</div>"
      ],
      "text/plain": [
       "  English     Dutch\n",
       "0     Go.    Lopen!\n",
       "1     Go.  Vooruit.\n",
       "2     Hi.      Hoi.\n",
       "3     Hi.       Hé!\n",
       "4     Hi.      Hai!"
      ]
     },
     "execution_count": 11,
     "metadata": {},
     "output_type": "execute_result"
    }
   ],
   "source": [
    "data = pd.read_csv('data.csv')\n",
    "data.head()"
   ]
  },
  {
   "cell_type": "code",
   "execution_count": 12,
   "id": "6fc55a44",
   "metadata": {
    "ExecuteTime": {
     "end_time": "2022-08-23T18:35:16.795217Z",
     "start_time": "2022-08-23T18:35:16.792639Z"
    }
   },
   "outputs": [
    {
     "data": {
      "text/plain": [
       "\"If someone who doesn't know your background says that you sound like a native speaker, it means they probably noticed something about your speaking that made them realize you weren't a native speaker. In other words, you don't really sound like a native speaker.\""
      ]
     },
     "execution_count": 12,
     "metadata": {},
     "output_type": "execute_result"
    }
   ],
   "source": [
    "eng_word[-1]"
   ]
  },
  {
   "cell_type": "code",
   "execution_count": 13,
   "id": "5eaeb871",
   "metadata": {
    "ExecuteTime": {
     "end_time": "2022-08-23T18:35:16.801894Z",
     "start_time": "2022-08-23T18:35:16.795913Z"
    }
   },
   "outputs": [],
   "source": [
    "#80% of data used for training, and 20% for testing the models\n",
    "# Shuffle dataset \n",
    "shuffle_df = data.sample(frac=1)\n",
    "\n",
    "# Define a size for train set \n",
    "train_size = int(0.8 * len(data))\n",
    "\n",
    "# Split dataset \n",
    "train_ex = shuffle_df[:train_size]\n",
    "test_ex = shuffle_df[train_size:]"
   ]
  },
  {
   "cell_type": "code",
   "execution_count": 14,
   "id": "87ff19c2",
   "metadata": {
    "ExecuteTime": {
     "end_time": "2022-08-23T18:35:16.804487Z",
     "start_time": "2022-08-23T18:35:16.802589Z"
    }
   },
   "outputs": [],
   "source": [
    "eng_train = train_ex['English'].values\n",
    "nld_train = train_ex['Dutch'].values\n",
    "eng_test = test_ex['English'].values\n",
    "nld_test = test_ex['Dutch'].values"
   ]
  },
  {
   "cell_type": "code",
   "execution_count": 15,
   "id": "68d2dc6c",
   "metadata": {
    "ExecuteTime": {
     "end_time": "2022-08-23T18:35:16.817934Z",
     "start_time": "2022-08-23T18:35:16.805046Z"
    }
   },
   "outputs": [
    {
     "name": "stderr",
     "output_type": "stream",
     "text": [
      "2022-08-24 00:05:16.805982: I tensorflow/core/common_runtime/pluggable_device/pluggable_device_factory.cc:305] Could not identify NUMA node of platform GPU ID 0, defaulting to 0. Your kernel may not have been built with NUMA support.\n",
      "2022-08-24 00:05:16.806001: I tensorflow/core/common_runtime/pluggable_device/pluggable_device_factory.cc:271] Created TensorFlow device (/job:localhost/replica:0/task:0/device:GPU:0 with 0 MB memory) -> physical PluggableDevice (device: 0, name: METAL, pci bus id: <undefined>)\n"
     ]
    }
   ],
   "source": [
    "#we get the slices of the arrays as objects by using tf.data.Dataset.from_tensor_slices() \n",
    "train_ex = tf.data.Dataset.from_tensor_slices((eng_train,nld_train))\n",
    "test_ex = tf.data.Dataset.from_tensor_slices((eng_test,nld_test))"
   ]
  },
  {
   "cell_type": "code",
   "execution_count": 16,
   "id": "4213d4ca",
   "metadata": {
    "ExecuteTime": {
     "end_time": "2022-08-23T18:35:16.823104Z",
     "start_time": "2022-08-23T18:35:16.818689Z"
    }
   },
   "outputs": [
    {
     "name": "stdout",
     "output_type": "stream",
     "text": [
      "Let's go out.\n",
      "Laten we uitgaan.\n"
     ]
    }
   ],
   "source": [
    "#tf.compat.as_text() converts any string-like python input types to unicode.\n",
    "for en, nld in train_ex.take(1):\n",
    "  print(tf.compat.as_text(en.numpy()))\n",
    "  print(tf.compat.as_text(nld.numpy()))"
   ]
  },
  {
   "cell_type": "markdown",
   "id": "dc0530af",
   "metadata": {},
   "source": [
    "# Preprocessing and Tokenization"
   ]
  },
  {
   "cell_type": "code",
   "execution_count": 17,
   "id": "260e9c60",
   "metadata": {
    "ExecuteTime": {
     "end_time": "2022-08-23T18:35:16.825558Z",
     "start_time": "2022-08-23T18:35:16.823772Z"
    }
   },
   "outputs": [],
   "source": [
    "def to_unicode(text):\n",
    "    #strings are stored as unicode in Python 3.0 and above\n",
    "    if isinstance(text,str):\n",
    "        return text\n",
    "    #conversion of bytes to unicode\n",
    "    elif isinstance(text,bytes):\n",
    "        return text.decode('utf-8','ignore')\n",
    "    else:\n",
    "        raise ValueError(\"Unsupported string type: %s\" % (type(text)))"
   ]
  },
  {
   "cell_type": "code",
   "execution_count": 18,
   "id": "31b2402c",
   "metadata": {
    "ExecuteTime": {
     "end_time": "2022-08-23T18:35:16.827997Z",
     "start_time": "2022-08-23T18:35:16.826064Z"
    }
   },
   "outputs": [],
   "source": [
    "#load vocab file into a dictionary\n",
    "def load_dict(vocab_file):\n",
    "    vocab = collections.OrderedDict()\n",
    "    index = 0\n",
    "    with open(vocab_file, \"r\") as reader:\n",
    "        while True:\n",
    "            token = to_unicode(reader.readline())\n",
    "            if not token:\n",
    "                break\n",
    "            token = token.strip()\n",
    "            vocab[token] = index\n",
    "            index += 1\n",
    "    return vocab"
   ]
  },
  {
   "cell_type": "code",
   "execution_count": 19,
   "id": "d3369206",
   "metadata": {
    "ExecuteTime": {
     "end_time": "2022-08-23T18:35:16.830152Z",
     "start_time": "2022-08-23T18:35:16.828644Z"
    }
   },
   "outputs": [],
   "source": [
    "# removes whitespace from text and returns tokens\n",
    "def remove_whitespace(text):\n",
    "    text = text.strip()\n",
    "    if not text:\n",
    "        return []\n",
    "    token = text.split()\n",
    "    return token"
   ]
  },
  {
   "cell_type": "code",
   "execution_count": 20,
   "id": "1d765b03",
   "metadata": {
    "ExecuteTime": {
     "end_time": "2022-08-23T18:35:16.832169Z",
     "start_time": "2022-08-23T18:35:16.830645Z"
    }
   },
   "outputs": [],
   "source": [
    "def convert_vocab(vocab,items):\n",
    "    output = []\n",
    "    for item in items:\n",
    "        output.append(vocab[item])\n",
    "    return output"
   ]
  },
  {
   "cell_type": "code",
   "execution_count": 21,
   "id": "30799d03",
   "metadata": {
    "ExecuteTime": {
     "end_time": "2022-08-23T18:35:16.835529Z",
     "start_time": "2022-08-23T18:35:16.832729Z"
    }
   },
   "outputs": [],
   "source": [
    "# for end-to-end tokenization\n",
    "class FullTokenizer(object):\n",
    "    def __init__(self, vocab_file, do_lower_case=True):\n",
    "        self.vocab = load_dict(vocab_file)\n",
    "        # map IDs to tokens\n",
    "        self.invert_vocab = {v: k for k, v in self.vocab.items()}\n",
    "        # basic tokenizer to break text into tokens based on whitespace\n",
    "        self.basic_tokenizer = BasicTokenizer(do_lower_case=do_lower_case)\n",
    "        # Wordpiece tokenizer to generate sub-tokens out of the tokens from BasicTokenizer\n",
    "        self.wordpiece_tokenizer = WordpieceTokenizer(vocab=self.vocab)\n",
    "    \n",
    "    # uses Wordpiece to tokenize tokens generated by the BasicTokenizer\n",
    "    def tokenize(self, text):\n",
    "        split_tokens = []\n",
    "        for token in self.basic_tokenizer.tokenize(text):\n",
    "            for sub_token in self.wordpiece_tokenizer.tokenize(token):\n",
    "                split_tokens.append(sub_token)\n",
    "        return split_tokens\n",
    "    \n",
    "    # after being provided the tokens, outputs the IDs of the tokens\n",
    "    def convert_tokens_to_ids(self, tokens):\n",
    "        return convert_vocab(self.vocab, tokens)\n",
    "    \n",
    "    # after being provided the IDs, outputs the tokens mapped to the IDs\n",
    "    def convert_ids_to_tokens(self, ids):\n",
    "        return convert_vocab(self.invert_vocab, ids)"
   ]
  },
  {
   "cell_type": "code",
   "execution_count": 22,
   "id": "3828743f",
   "metadata": {
    "ExecuteTime": {
     "end_time": "2022-08-23T18:35:16.842086Z",
     "start_time": "2022-08-23T18:35:16.836163Z"
    }
   },
   "outputs": [],
   "source": [
    "# tokenizes based on whitespace and punctuation, also lower-cases the tokens\n",
    "class BasicTokenizer(object):\n",
    "    \n",
    "    # whether or not to lower-case the tokens\n",
    "    def __init__(self, do_lower_case=True):\n",
    "        self.do_lower_case = do_lower_case\n",
    "\n",
    "    # tokenizes the text\n",
    "    def tokenize(self, text):\n",
    "        text = to_unicode(text)\n",
    "        text = self.text_clean(text)\n",
    "        text = self._tokenize_chinese_chars(text)\n",
    "\n",
    "        orig_tokens = remove_whitespace(text)\n",
    "        split_tokens = []\n",
    "        for token in orig_tokens:\n",
    "            if self.do_lower_case:\n",
    "                token = token.lower()\n",
    "                token = self._run_strip_accents(token)\n",
    "            split_tokens.extend(self._run_split_on_punc(token))\n",
    "\n",
    "        output_tokens = remove_whitespace(\" \".join(split_tokens))\n",
    "        return output_tokens\n",
    "\n",
    "    def _run_strip_accents(self, text):\n",
    "        \"\"\"Strips accents from a piece of text.\"\"\"\n",
    "        text = unicodedata.normalize(\"NFD\", text)\n",
    "        output = []\n",
    "        for char in text:\n",
    "            cat = unicodedata.category(char)\n",
    "            if cat == \"Mn\":\n",
    "                continue\n",
    "            output.append(char)\n",
    "        return \"\".join(output)\n",
    "\n",
    "    def _run_split_on_punc(self, text):\n",
    "        \"\"\"Splits punctuation on a piece of text.\"\"\"\n",
    "        chars = list(text)\n",
    "        i = 0\n",
    "        start_new_word = True\n",
    "        output = []\n",
    "        while i < len(chars):\n",
    "            char = chars[i]\n",
    "            if _is_punctuation(char):\n",
    "                output.append([char])\n",
    "                start_new_word = True\n",
    "            else:\n",
    "                if start_new_word:\n",
    "                    output.append([])\n",
    "                start_new_word = False\n",
    "                output[-1].append(char)\n",
    "            i += 1\n",
    "\n",
    "        return [\"\".join(x) for x in output]\n",
    "\n",
    "    # adds whitespace around CJK characters\n",
    "    def _tokenize_chinese_chars(self, text):\n",
    "        output = []\n",
    "        for char in text:\n",
    "            # returns unicode for the codepoint\n",
    "            cp = ord(char)\n",
    "            if self._is_chinese_char(cp):\n",
    "                output.append(\" \")\n",
    "                output.append(char)\n",
    "                output.append(\" \")\n",
    "            else:\n",
    "                output.append(char)\n",
    "        return \"\".join(output)\n",
    "    \n",
    "    # checks if codepoint is a CJK character\n",
    "    def _is_chinese_char(self, cp):\n",
    "        if ((cp >= 0x4E00 and cp <= 0x9FFF) or  #\n",
    "                (cp >= 0x3400 and cp <= 0x4DBF) or  #\n",
    "                (cp >= 0x20000 and cp <= 0x2A6DF) or  #\n",
    "                (cp >= 0x2A700 and cp <= 0x2B73F) or  #\n",
    "                (cp >= 0x2B740 and cp <= 0x2B81F) or  #\n",
    "                (cp >= 0x2B820 and cp <= 0x2CEAF) or\n",
    "                (cp >= 0xF900 and cp <= 0xFAFF) or  #\n",
    "                (cp >= 0x2F800 and cp <= 0x2FA1F)):  #\n",
    "            return True\n",
    "\n",
    "        return False\n",
    "    \n",
    "    # removes invalid characters and cleans up whitespaces\n",
    "    def text_clean(self, text):\n",
    "        output = []\n",
    "        for char in text:\n",
    "            # get unicode of character\n",
    "            cp = ord(char)\n",
    "            # check if character is NULL, replacement character, or control character\n",
    "            if cp == 0 or cp == 0xfffd or _is_control(char):\n",
    "                continue\n",
    "            # check if character is a whitespace character\n",
    "            if _is_whitespace(char):\n",
    "                output.append(\" \")\n",
    "            else:\n",
    "                output.append(char)\n",
    "        return \"\".join(output)\n"
   ]
  },
  {
   "cell_type": "code",
   "execution_count": 23,
   "id": "581357b2",
   "metadata": {
    "ExecuteTime": {
     "end_time": "2022-08-23T18:35:16.846362Z",
     "start_time": "2022-08-23T18:35:16.842708Z"
    }
   },
   "outputs": [],
   "source": [
    "# tokenization based on Wordpiece\n",
    "class WordpieceTokenizer(object):\n",
    "\n",
    "    def __init__(self, vocab, unk_token=\"[UNK]\", max_input_chars_per_word=200):\n",
    "        self.vocab = vocab\n",
    "        # unk_token represents an unknown word that is not present in the vocabulary\n",
    "        self.unk_token = unk_token\n",
    "        self.max_input_chars_per_word = max_input_chars_per_word\n",
    "    \n",
    "    # tokenizes text into word pieces\n",
    "    def tokenize(self, text):\n",
    "        \"\"\"\n",
    "        A very similar algorithm to BPE.\n",
    "        BPE is a compression algorithm which replaces consecutive bytes of data with a byte that does not occur\n",
    "        in the data. It does so by mapping individual characters of text to their frequency, inculding an EOW token.\n",
    "        In each further iteration, the most frequent pairing or characters or group of characters from the table\n",
    "        is merged together until token limit or iteration limit is reached.\n",
    "        \n",
    "        In WordPiece tokenization, the only difference is how the pairing to be merged is selected. At each \n",
    "        iterative step, WordPiece chooses a symbol pair which will result in the largest increase in likelihood \n",
    "        upon merging. P(AB)/[P(A)*P(B)]\n",
    "        The time complexity is O(K²) where K is the number of current word units in the table.\n",
    "        While we use probability, the algorithm is still greedy. For a probabilistic approach, the unigram tokenizer\n",
    "        is used.\n",
    "        \n",
    "        For example:\n",
    "          input = \"unaffable\"\n",
    "          output = [\"un\", \"##aff\", \"##able\"]\n",
    "        Here '##' indicates that the token is a suffix, and should be used in that context. \n",
    "    \n",
    "        Args:\n",
    "          text: A single token or whitespace separated tokens. This should have\n",
    "            already been passed through `BasicTokenizer.\n",
    "    \n",
    "        Returns:\n",
    "          A list of wordpiece tokens.\n",
    "        \"\"\"\n",
    "\n",
    "        text = to_unicode(text)\n",
    "\n",
    "        output_tokens = []\n",
    "        for token in remove_whitespace(text):\n",
    "            # splits token into chars\n",
    "            chars = list(token)\n",
    "            if len(chars) > self.max_input_chars_per_word:\n",
    "                output_tokens.append(self.unk_token)\n",
    "                continue\n",
    "\n",
    "            is_bad = False\n",
    "            start = 0\n",
    "            sub_tokens = []\n",
    "            while start < len(chars):\n",
    "                end = len(chars)\n",
    "                cur_substr = None\n",
    "                # finds longest substring from start of remaining word which is in vocab\n",
    "                while start < end:\n",
    "                    substr = \"\".join(chars[start:end])\n",
    "                    if start > 0:\n",
    "                        substr = \"##\" + substr\n",
    "                    if substr in self.vocab:\n",
    "                        cur_substr = substr\n",
    "                        break\n",
    "                    end -= 1\n",
    "                # if no such substring, the token is not in vocab\n",
    "                if cur_substr is None:\n",
    "                    is_bad = True\n",
    "                    break\n",
    "                sub_tokens.append(cur_substr)\n",
    "                # find next substring\n",
    "                start = end\n",
    "\n",
    "            if is_bad:\n",
    "                output_tokens.append(self.unk_token)\n",
    "            else:\n",
    "                output_tokens.extend(sub_tokens)\n",
    "        return output_tokens"
   ]
  },
  {
   "cell_type": "code",
   "execution_count": 24,
   "id": "b5e8286c",
   "metadata": {
    "ExecuteTime": {
     "end_time": "2022-08-23T18:35:16.849975Z",
     "start_time": "2022-08-23T18:35:16.847109Z"
    }
   },
   "outputs": [],
   "source": [
    "# checks if char is whitespace \n",
    "def _is_whitespace(char):\n",
    "    # \\t, \\n, and \\r are technically controll characters but we treat them\n",
    "    # as whitespace since they are generally considered as such.\n",
    "    if char == \" \" or char == \"\\t\" or char == \"\\n\" or char == \"\\r\":\n",
    "        return True\n",
    "    # returns category of char\n",
    "    cat = unicodedata.category(char)\n",
    "    # char of category space separator\n",
    "    if cat == \"Zs\":\n",
    "        return True\n",
    "    return False\n",
    "\n",
    "\n",
    "def _is_control(char):\n",
    "    # These are technically control characters but we count them as whitespace\n",
    "    # characters.\n",
    "    if char == \"\\t\" or char == \"\\n\" or char == \"\\r\":\n",
    "        return False\n",
    "    # returns category of char\n",
    "    cat = unicodedata.category(char)\n",
    "    # char of category control, format, private use, or surrogate\n",
    "    if cat.startswith(\"C\"):\n",
    "        return True\n",
    "    return False\n",
    "\n",
    "# checks if char is a punctuation\n",
    "def _is_punctuation(char):\n",
    "    cp = ord(char)\n",
    "    # We treat all non-letter/number ASCII as punctuation.\n",
    "    # Characters such as \"^\", \"$\", and \"`\" are not in the Unicode\n",
    "    # Punctuation class but we treat them as punctuation anyways, for\n",
    "    # consistency.\n",
    "    if ((cp >= 33 and cp <= 47) or (cp >= 58 and cp <= 64) or\n",
    "            (cp >= 91 and cp <= 96) or (cp >= 123 and cp <= 126)):\n",
    "        return True\n",
    "    # returns category of char\n",
    "    cat = unicodedata.category(char)\n",
    "    # char of category punctuation\n",
    "    if cat.startswith(\"P\"):\n",
    "        return True\n",
    "    return False"
   ]
  },
  {
   "cell_type": "markdown",
   "id": "d2c7ec5b",
   "metadata": {},
   "source": [
    "## Create a custom subwords tokenizer from the training dataset for the decoder.\n",
    "The encoder uses BERT Tokenizer"
   ]
  },
  {
   "cell_type": "code",
   "execution_count": 25,
   "id": "2e806f24",
   "metadata": {
    "ExecuteTime": {
     "end_time": "2022-08-23T18:35:16.885570Z",
     "start_time": "2022-08-23T18:35:16.850629Z"
    }
   },
   "outputs": [
    {
     "name": "stdout",
     "output_type": "stream",
     "text": [
      "17285 ----> Mooie \n",
      "14012 ----> kale \n",
      "580 ----> man\n",
      "18097 ----> .\n"
     ]
    }
   ],
   "source": [
    "import os\n",
    "vocab_file = 'vocab_nld'\n",
    "# The vocabulary is \"trained\" on a corpus and all wordpieces are stored in a vocabulary file\n",
    "if os.path.isfile(vocab_file + '.subwords'):\n",
    "    # Invertible TextEncoder using word pieces with a byte-level fallback\n",
    "    tokenizer_nld = tfds.deprecated.text.SubwordTextEncoder.load_from_file(vocab_file)\n",
    "else: \n",
    "    # if vocab file not stored, build it\n",
    "    tokenizer_nld = tfds.deprecated.text.SubwordTextEncoder.build_from_corpus(\n",
    "      (nld_train), target_vocab_size=2 ** 15)\n",
    "    tokenizer_nld.save_to_file('vocab_nld')\n",
    "\n",
    "sample_string = 'Mooie kale man.'\n",
    "tokenized_string = tokenizer_nld.encode(sample_string)\n",
    "for ts in tokenized_string:\n",
    "  print ('{} ----> {}'.format(ts, tokenizer_nld.decode([ts])))"
   ]
  },
  {
   "cell_type": "code",
   "execution_count": 26,
   "id": "2e99602b",
   "metadata": {
    "ExecuteTime": {
     "end_time": "2022-08-23T18:35:16.899279Z",
     "start_time": "2022-08-23T18:35:16.886231Z"
    }
   },
   "outputs": [
    {
     "name": "stdout",
     "output_type": "stream",
     "text": [
      "[101, 14262, 10497, 11514, 3012, 102]\n",
      "['[CLS]', 'ser', '##end', '##ip', '##ity', '[SEP]']\n"
     ]
    }
   ],
   "source": [
    "# english tokenizer using the custom FullTokenizer\n",
    "tokenizer_en = FullTokenizer(\n",
    "    vocab_file= 'vocab_en.txt',\n",
    "    do_lower_case=True)\n",
    "\n",
    "test_tokens = tokenizer_en.tokenize(\"serendipity\")\n",
    "# [CLS] token is used to indicate the task we want BERT to perform is next-sentence prediction, and not mask\n",
    "# word prediction. We can think about the output of [CLS] as a probability. Used to oraganize tasks as [CLS]\n",
    "# and [MASK]. [SEP] is also used for next-sentence predication tasks. It helps the model distinguish one \n",
    "# sentence from the next.\n",
    "test_ids = tokenizer_en.convert_tokens_to_ids(['[CLS]'] + test_tokens + ['[SEP]'])\n",
    "print(test_ids)\n",
    "print(tokenizer_en.convert_ids_to_tokens(test_ids))"
   ]
  },
  {
   "cell_type": "code",
   "execution_count": 27,
   "id": "44dc772e",
   "metadata": {
    "ExecuteTime": {
     "end_time": "2022-08-23T18:35:17.753433Z",
     "start_time": "2022-08-23T18:35:17.746581Z"
    }
   },
   "outputs": [],
   "source": [
    "MAX_SEQ_LENGTH = 50\n",
    "\n",
    "def encode(en, nld, seq_length=MAX_SEQ_LENGTH):\n",
    "    # converts Python input text to unicode\n",
    "    tokens_en = tokenizer_en.tokenize(tf.compat.as_text(en.numpy()))\n",
    "    lang1 = tokenizer_en.convert_tokens_to_ids(['[CLS]'] + tokens_en + ['[SEP]'])\n",
    "    if len(lang1)<seq_length:\n",
    "        # makes token list equal to length of seq_length\n",
    "        lang1 = lang1 + list(np.zeros(seq_length - len(lang1), 'int32'))\n",
    "    # lang2 is a list with first argument as size of vocab of Dutch tokenizer, followed by list of Dutch text converted\n",
    "    # to integers, and again the last argument is the size of the vocab+1\n",
    "    lang2 = [tokenizer_nld.vocab_size] + tokenizer_nld.encode(tf.compat.as_text(nld.numpy())) + [tokenizer_nld.vocab_size + 1]\n",
    "    if len(lang2)<seq_length:\n",
    "        lang2 = lang2 + list(np.zeros(seq_length - len(lang2), 'int32'))\n",
    "    return lang1, lang2"
   ]
  },
  {
   "cell_type": "code",
   "execution_count": 28,
   "id": "059a93e8",
   "metadata": {
    "ExecuteTime": {
     "end_time": "2022-08-23T18:35:18.247533Z",
     "start_time": "2022-08-23T18:35:18.243794Z"
    }
   },
   "outputs": [],
   "source": [
    "# used to convert shape and type of output from tf.string to tf.int32, makes shape(None,) required for future \n",
    "# functions\n",
    "def tf_encode(en, nld):\n",
    "    # tf.py_function makes it possible to express control flow using Python constructs (if, while, for, etc.), \n",
    "    # instead of TensorFlow control flow constructs (tf.cond, tf.while_loop) for the function used in the argument\n",
    "    # tf.py_function(func, inp, Tout, name=None)\n",
    "    result_en, result_nld = tf.py_function(encode, [en, nld], [tf.int32, tf.int32])\n",
    "    # sets particular shape to the objects\n",
    "    result_en.set_shape([None])\n",
    "    result_nld.set_shape([None])\n",
    "    return result_en, result_nld"
   ]
  },
  {
   "cell_type": "code",
   "execution_count": 29,
   "id": "284c7593",
   "metadata": {
    "ExecuteTime": {
     "end_time": "2022-08-23T18:35:18.328544Z",
     "start_time": "2022-08-23T18:35:18.325340Z"
    }
   },
   "outputs": [],
   "source": [
    "# checks if both english and dutch seentences are less than max_length\n",
    "def filter_max_length(x, y, max_length=MAX_SEQ_LENGTH):\n",
    "    # element-wise AND of its arguments\n",
    "    return tf.logical_and(tf.size(x) <= max_length,\n",
    "                        tf.size(y) <= max_length)"
   ]
  },
  {
   "cell_type": "code",
   "execution_count": 30,
   "id": "b39fc057",
   "metadata": {
    "ExecuteTime": {
     "end_time": "2022-08-23T18:35:18.571323Z",
     "start_time": "2022-08-23T18:35:18.428941Z"
    }
   },
   "outputs": [],
   "source": [
    "BUFFER_SIZE = 40000\n",
    "BATCH_SIZE = 64\n",
    "\n",
    "# applies tf_encode, filter_max_length functions to entire dataset\n",
    "train_dataset = train_ex.map(tf_encode)\n",
    "train_dataset = train_dataset.filter(filter_max_length)\n",
    "\n",
    "# cache the dataset to memory to get a speedup while reading from it.\n",
    "train_dataset = train_dataset.cache()\n",
    "\n",
    "# maintains a fixed-size buffer and chooses the next element uniformly at random from that buffer.\n",
    "train_dataset = train_dataset.shuffle(BUFFER_SIZE).padded_batch(\n",
    "    BATCH_SIZE, padded_shapes=([-1], [-1]), drop_remainder=True)\n",
    "# creates a Dataset that prefetches elements from this dataset. This allows later elements to \n",
    "# be prepared while the current element is being processed. \n",
    "train_dataset = train_dataset.prefetch(tf.data.experimental.AUTOTUNE)\n",
    "test_dataset = test_ex.map(\n",
    "    lambda en, nld: tf.py_function(encode, [en, nld], [tf.int32, tf.int32]))\n",
    "test_dataset = test_dataset.filter(filter_max_length)\n",
    "test_dataset = test_dataset.padded_batch(BATCH_SIZE, padded_shapes=([-1], [-1]))"
   ]
  },
  {
   "cell_type": "markdown",
   "id": "40918588",
   "metadata": {},
   "source": [
    "# Attention"
   ]
  },
  {
   "cell_type": "markdown",
   "id": "e491c613",
   "metadata": {},
   "source": [
    "## Positional Encoding\n",
    "The positional encoding vector is added to the embedding vector. Embeddings represent a token in a \n",
    "d-dimensional space where tokens with similar meaning will be closer to each other. But the embeddings do \n",
    "not encode the relative position of words in a sentence. So after adding the positional encoding, words will\n",
    "be closer to each other based on the similarity of their meaning and their position in the sentence, in the \n",
    "d-dimensional space.\n",
    "The formula for calculating the positional encoding is as follows:\n",
    "\n",
    "$$\\Large{PE_{(pos, 2i)} = \\sin(pos / 10000^{2i / d_{model}})} $$\n",
    "$$\\Large{PE_{(pos, 2i+1)} = \\cos(pos / 10000^{2i / d_{model}})} $$"
   ]
  },
  {
   "cell_type": "code",
   "execution_count": 31,
   "id": "c107e85b",
   "metadata": {
    "ExecuteTime": {
     "end_time": "2022-08-23T18:35:20.363534Z",
     "start_time": "2022-08-23T18:35:20.359349Z"
    }
   },
   "outputs": [],
   "source": [
    "# angles to which sin and cos will be applied\n",
    "def get_angles(pos, i, d_model):\n",
    "    angle_rates = 1 / np.power(10000, (2 * (i//2)) / np.float32(d_model))\n",
    "    return pos * angle_rates"
   ]
  },
  {
   "cell_type": "code",
   "execution_count": 32,
   "id": "c41db276",
   "metadata": {
    "ExecuteTime": {
     "end_time": "2022-08-23T18:35:20.478926Z",
     "start_time": "2022-08-23T18:35:20.473833Z"
    }
   },
   "outputs": [],
   "source": [
    "# calculates the positional encoding vector\n",
    "def positional_encoding(position, d_model):\n",
    "    angle_rads = get_angles(np.arange(position)[:, np.newaxis],\n",
    "                          np.arange(d_model)[np.newaxis, :],\n",
    "                          d_model)\n",
    "\n",
    "    # apply sin to even indices in the array; 2i, start at 0, skip 2\n",
    "    angle_rads[:, 0::2] = np.sin(angle_rads[:, 0::2])\n",
    "\n",
    "    # apply cos to odd indices in the array; 2i+1, start at 1, skip 2\n",
    "    angle_rads[:, 1::2] = np.cos(angle_rads[:, 1::2])\n",
    "\n",
    "    pos_encoding = angle_rads[np.newaxis, ...]\n",
    "\n",
    "    return tf.cast(pos_encoding, dtype=tf.float32)"
   ]
  },
  {
   "cell_type": "markdown",
   "id": "cbee4040",
   "metadata": {},
   "source": [
    "## Masking\n",
    "\n",
    "Mask all the pad tokens in the batch of sequence. It ensures that the model does not treat padding as the input. The mask indicates where pad value 0 is present: it outputs a 1 at those locations, and a 0 otherwise."
   ]
  },
  {
   "cell_type": "code",
   "execution_count": 33,
   "id": "d5827c10",
   "metadata": {
    "ExecuteTime": {
     "end_time": "2022-08-23T18:35:20.624218Z",
     "start_time": "2022-08-23T18:35:20.617644Z"
    }
   },
   "outputs": [],
   "source": [
    "def create_padding_mask(seq):\n",
    "    #tf.cast casts a tensor to a new type\n",
    "    seq = tf.cast(tf.math.equal(seq, 0), tf.float32)\n",
    "\n",
    "    # add extra dimensions so that we can add the padding\n",
    "    # to the attention logits.\n",
    "    return seq[:, tf.newaxis, tf.newaxis, :]  # (batch_size, 1, 1, seq_len)"
   ]
  },
  {
   "cell_type": "markdown",
   "id": "c42c39e0",
   "metadata": {},
   "source": [
    "The look-ahead mask is used to mask the future tokens in a sequence. In other words, the mask indicates which entries should not be used.\n",
    "\n",
    "This means that to predict the third word, only the first and second word will be used. Similarly to predict the fourth word, only the first, second and the third word will be used and so on."
   ]
  },
  {
   "cell_type": "code",
   "execution_count": 34,
   "id": "52d08efd",
   "metadata": {
    "ExecuteTime": {
     "end_time": "2022-08-23T18:35:20.786090Z",
     "start_time": "2022-08-23T18:35:20.782262Z"
    }
   },
   "outputs": [],
   "source": [
    "def create_look_ahead_mask(size):\n",
    "    # Copy a tensor setting everything outside a central band in each innermost matrix to zero\n",
    "    # The indicator function in_band(m, n) = (num_lower < 0 || (m-n) <= num_lower)) \n",
    "    # && (num_upper < 0 || (n-m) <= num_upper)\n",
    "    mask = 1 - tf.linalg.band_part(tf.ones((size, size)), -1, 0) # 1 - (lower triangle of matrix)\n",
    "    # lower triangle is not masked\n",
    "    return mask  # (seq_len, seq_len)"
   ]
  },
  {
   "cell_type": "markdown",
   "id": "e111dac0",
   "metadata": {},
   "source": [
    "## Scaled dot product attention\n",
    "$$\\Large{Attention(Q, K, V) = softmax_k\\left(\\frac{QK^T}{\\sqrt{d_k}}\\right) V} $$"
   ]
  },
  {
   "cell_type": "code",
   "execution_count": 35,
   "id": "fb777668",
   "metadata": {
    "ExecuteTime": {
     "end_time": "2022-08-23T18:35:20.972236Z",
     "start_time": "2022-08-23T18:35:20.964385Z"
    },
    "code_folding": []
   },
   "outputs": [],
   "source": [
    "# the attention values decide the amount of importance given to the keys for each query.\n",
    "# The output represents the multiplication of the attention weights and the V (value) \n",
    "# vector. This ensures that the tokens we want to focus on are kept as-is and the \n",
    "# irrelevant tokens are flushed out.\n",
    "def scaled_dot_product_attention(q, k, v, mask):\n",
    "    \"\"\"Calculate the attention weights.\n",
    "    q, k, v must have matching leading dimensions.\n",
    "    k, v must have matching penultimate dimension, i.e.: seq_len_k = seq_len_v.\n",
    "    The mask has different shapes depending on its type(padding or look ahead)\n",
    "    but it must be broadcastable for addition.\n",
    "\n",
    "    Args:\n",
    "    q: query shape == (..., seq_len_q, depth)\n",
    "    k: key shape == (..., seq_len_k, depth)\n",
    "    v: value shape == (..., seq_len_v, depth_v)\n",
    "    mask: Float tensor with shape broadcastable\n",
    "          to (..., seq_len_q, seq_len_k). Defaults to None.\n",
    "\n",
    "    Returns:\n",
    "    output, attention_weights\n",
    "    \"\"\"\n",
    "\n",
    "    matmul_qk = tf.matmul(q, k, transpose_b=True)  # (..., seq_len_q, seq_len_k)\n",
    "\n",
    "    # scale matmul_qk\n",
    "    dk = tf.cast(tf.shape(k)[-1], tf.float32)\n",
    "    scaled_attention_logits = matmul_qk / tf.math.sqrt(dk)\n",
    "\n",
    "    # add the mask to the scaled tensor.\n",
    "    if mask is not None:\n",
    "        scaled_attention_logits += (mask * -1e9)\n",
    "\n",
    "    # softmax is normalized on the last axis (seq_len_k) so that the scores\n",
    "    # add up to 1.\n",
    "    attention_weights = tf.nn.softmax(scaled_attention_logits, axis=-1)  \n",
    "    # (..., seq_len_q, seq_len_k)\n",
    "\n",
    "    output = tf.matmul(attention_weights, v)  # (..., seq_len_q, depth_v)\n",
    "\n",
    "    return output, attention_weights"
   ]
  },
  {
   "cell_type": "markdown",
   "id": "0fe980d4",
   "metadata": {},
   "source": [
    "## Multi-Head-Attention"
   ]
  },
  {
   "cell_type": "markdown",
   "id": "5c4937a7",
   "metadata": {
    "ExecuteTime": {
     "end_time": "2022-08-08T05:36:24.132249Z",
     "start_time": "2022-08-08T05:36:24.123159Z"
    }
   },
   "source": [
    "<img src=\"https://www.tensorflow.org/images/tutorials/transformer/multi_head_attention.png\" width=\"500\" alt=\"multi-head attention\">\n",
    "\n",
    "\n",
    "Multi-head attention consists of four parts:\n",
    "*    Linear layers.\n",
    "*    Scaled dot-product attention.\n",
    "*    Final linear layer."
   ]
  },
  {
   "cell_type": "code",
   "execution_count": 36,
   "id": "c87cd9ad",
   "metadata": {
    "ExecuteTime": {
     "end_time": "2022-08-23T18:35:21.214936Z",
     "start_time": "2022-08-23T18:35:21.197056Z"
    }
   },
   "outputs": [],
   "source": [
    "class MultiHeadAttention(tf.keras.layers.Layer):\n",
    "    def __init__(self,*, d_model, num_heads):\n",
    "        super(MultiHeadAttention, self).__init__()\n",
    "        self.num_heads = num_heads\n",
    "        self.d_model = d_model\n",
    "\n",
    "        assert d_model % self.num_heads == 0\n",
    "\n",
    "        self.depth = d_model // self.num_heads\n",
    "\n",
    "        self.wq = tf.keras.layers.Dense(d_model)\n",
    "        self.wk = tf.keras.layers.Dense(d_model)\n",
    "        self.wv = tf.keras.layers.Dense(d_model)\n",
    "\n",
    "        self.dense = tf.keras.layers.Dense(d_model)\n",
    "\n",
    "    def split_heads(self, x, batch_size):\n",
    "        \"\"\"Split the last dimension into (num_heads, depth).\n",
    "        Transpose the result such that the shape is (batch_size, num_heads, seq_len, depth)\n",
    "        \"\"\"\n",
    "        x = tf.reshape(x, (batch_size, -1, self.num_heads, self.depth))\n",
    "        return tf.transpose(x, perm=[0, 2, 1, 3])\n",
    "\n",
    "    def call(self, v, k, q, mask):\n",
    "        batch_size = tf.shape(q)[0]\n",
    "\n",
    "        q = self.wq(q)  # (batch_size, seq_len, d_model)\n",
    "        k = self.wk(k)  # (batch_size, seq_len, d_model)\n",
    "        v = self.wv(v)  # (batch_size, seq_len, d_model)\n",
    "\n",
    "        q = self.split_heads(q, batch_size)  # (batch_size, num_heads, seq_len_q, depth)\n",
    "        k = self.split_heads(k, batch_size)  # (batch_size, num_heads, seq_len_k, depth)\n",
    "        v = self.split_heads(v, batch_size)  # (batch_size, num_heads, seq_len_v, depth)\n",
    "\n",
    "        # scaled_attention.shape == (batch_size, num_heads, seq_len_q, depth)\n",
    "        # attention_weights.shape == (batch_size, num_heads, seq_len_q, seq_len_k)\n",
    "        scaled_attention, attention_weights = scaled_dot_product_attention(\n",
    "            q, k, v, mask)\n",
    "\n",
    "        scaled_attention = tf.transpose(scaled_attention, perm=[0, 2, 1, 3])  # (batch_size, seq_len_q, num_heads, depth)\n",
    "\n",
    "        concat_attention = tf.reshape(scaled_attention,\n",
    "                                  (batch_size, -1, self.d_model))  # (batch_size, seq_len_q, d_model)\n",
    "\n",
    "        output = self.dense(concat_attention)  # (batch_size, seq_len_q, d_model)\n",
    "\n",
    "        return output, attention_weights"
   ]
  },
  {
   "cell_type": "markdown",
   "id": "dc66077d",
   "metadata": {},
   "source": [
    "## Point wise feed forward network"
   ]
  },
  {
   "cell_type": "code",
   "execution_count": 37,
   "id": "4989b45a",
   "metadata": {
    "ExecuteTime": {
     "end_time": "2022-08-23T18:35:21.686469Z",
     "start_time": "2022-08-23T18:35:21.682946Z"
    }
   },
   "outputs": [],
   "source": [
    "def point_wise_feed_forward_network(d_model, dff):\n",
    "  return tf.keras.Sequential([\n",
    "      tf.keras.layers.Dense(dff, activation='relu'),  # (batch_size, seq_len, dff)\n",
    "      tf.keras.layers.Dense(d_model)  # (batch_size, seq_len, d_model)\n",
    "  ])"
   ]
  },
  {
   "cell_type": "markdown",
   "id": "5e2b0a75",
   "metadata": {},
   "source": [
    "# Encoder\n",
    "Use bert as encoder. The output shape is (batch_size, input_seq_len, d_model)."
   ]
  },
  {
   "cell_type": "code",
   "execution_count": 38,
   "id": "19f1a718",
   "metadata": {
    "ExecuteTime": {
     "end_time": "2022-08-23T18:35:22.285140Z",
     "start_time": "2022-08-23T18:35:22.281416Z"
    }
   },
   "outputs": [],
   "source": [
    "# using the bert_config.json from a pre-trained google model\n",
    "def build_encoder(config_file):\n",
    "    with tf.io.gfile.GFile(config_file, \"r\") as reader:\n",
    "        stock_params = StockBertConfig.from_json_string(reader.read())\n",
    "        bert_params = stock_params.to_bert_model_layer_params()\n",
    "\n",
    "    return BertModelLayer.from_params(bert_params, name=\"bert\")"
   ]
  },
  {
   "cell_type": "markdown",
   "id": "1e9533d9",
   "metadata": {
    "ExecuteTime": {
     "end_time": "2022-08-08T06:15:32.661032Z",
     "start_time": "2022-08-08T06:15:32.658544Z"
    }
   },
   "source": [
    "# Decoder\n",
    "Each decoder layer consists of sublayers:\n",
    "\n",
    "1. Masked multi-head attention (with look ahead mask and padding mask)\n",
    "\n",
    "2. Multi-head attention (with padding mask). V (value) and K (key) receive the encoder output as inputs. Q (query) receives the output from the masked multi-head attention sublayer\n",
    "\n",
    "3. Point wise feed forward networks\n",
    "\n",
    "Each of these sublayers has a residual connection around it followed by a layer normalization. The output of each sublayer is LayerNorm(x + Sublayer(x)). The normalization is done on the d_model (last) axis."
   ]
  },
  {
   "cell_type": "code",
   "execution_count": 39,
   "id": "df8bc2e2",
   "metadata": {
    "ExecuteTime": {
     "end_time": "2022-08-23T18:35:22.470380Z",
     "start_time": "2022-08-23T18:35:22.452850Z"
    }
   },
   "outputs": [],
   "source": [
    "class DecoderLayer(tf.keras.layers.Layer):\n",
    "    def __init__(self, d_model, num_heads, dff, rate=0.1):\n",
    "        super(DecoderLayer, self).__init__()\n",
    "\n",
    "        self.mha1 = MultiHeadAttention(d_model=d_model, num_heads=num_heads)\n",
    "        self.mha2 = MultiHeadAttention(d_model=d_model, num_heads=num_heads)\n",
    "\n",
    "        self.ffn = point_wise_feed_forward_network(d_model, dff)\n",
    "\n",
    "        self.layernorm1 = tf.keras.layers.LayerNormalization(epsilon=1e-6)\n",
    "        self.layernorm2 = tf.keras.layers.LayerNormalization(epsilon=1e-6)\n",
    "        self.layernorm3 = tf.keras.layers.LayerNormalization(epsilon=1e-6)\n",
    "\n",
    "        self.dropout1 = tf.keras.layers.Dropout(rate)\n",
    "        self.dropout2 = tf.keras.layers.Dropout(rate)\n",
    "        self.dropout3 = tf.keras.layers.Dropout(rate)\n",
    "\n",
    "\n",
    "    def call(self, x, enc_output, training,\n",
    "             look_ahead_mask, padding_mask):\n",
    "        # enc_output.shape == (batch_size, input_seq_len, d_model)\n",
    "        # call function of MHA (v,k,q,mask)\n",
    "        attn1, attn_weights_block1 = self.mha1(x, x, x, look_ahead_mask)  # (batch_size, target_seq_len, d_model)\n",
    "        attn1 = self.dropout1(attn1, training=training)\n",
    "        # output of sublayer 1\n",
    "        out1 = self.layernorm1(attn1 + x)\n",
    "\n",
    "        attn2, attn_weights_block2 = self.mha2(\n",
    "            enc_output, enc_output, out1, padding_mask)  # (batch_size, target_seq_len, d_model)\n",
    "        attn2 = self.dropout2(attn2, training=training)\n",
    "        out2 = self.layernorm2(attn2 + out1)  # (batch_size, target_seq_len, d_model)\n",
    "\n",
    "        ffn_output = self.ffn(out2)  # (batch_size, target_seq_len, d_model)\n",
    "        ffn_output = self.dropout3(ffn_output, training=training)\n",
    "        out3 = self.layernorm3(ffn_output + out2)  # (batch_size, target_seq_len, d_model)\n",
    "\n",
    "        return out3, attn_weights_block1, attn_weights_block2"
   ]
  },
  {
   "cell_type": "code",
   "execution_count": 40,
   "id": "f8cd9e02",
   "metadata": {
    "ExecuteTime": {
     "end_time": "2022-08-23T18:35:22.564115Z",
     "start_time": "2022-08-23T18:35:22.553880Z"
    }
   },
   "outputs": [],
   "source": [
    "class Decoder(tf.keras.layers.Layer):\n",
    "  def __init__(self,*, num_layers, d_model, num_heads, dff, target_vocab_size,\n",
    "               rate=0.1):\n",
    "    super(Decoder, self).__init__()\n",
    "\n",
    "    # number of features expected in input\n",
    "    self.d_model = d_model\n",
    "    self.num_layers = num_layers\n",
    "\n",
    "    self.embedding = tf.keras.layers.Embedding(target_vocab_size, d_model)\n",
    "    self.pos_encoding = positional_encoding(MAX_TOKENS, d_model)\n",
    "\n",
    "    self.dec_layers = [\n",
    "        DecoderLayer(d_model=d_model, num_heads=num_heads, dff=dff, rate=rate)\n",
    "        for _ in range(num_layers)]\n",
    "    self.dropout = tf.keras.layers.Dropout(rate)\n",
    "\n",
    "  def call(self, x, enc_output, training,\n",
    "           look_ahead_mask, padding_mask):\n",
    "\n",
    "    seq_len = tf.shape(x)[1]\n",
    "    attention_weights = {}\n",
    "\n",
    "    x = self.embedding(x)  # (batch_size, target_seq_len, d_model)\n",
    "    x *= tf.math.sqrt(tf.cast(self.d_model, tf.float32))\n",
    "    x += self.pos_encoding[:, :seq_len, :]\n",
    "\n",
    "    x = self.dropout(x, training=training)\n",
    "\n",
    "    for i in range(self.num_layers):\n",
    "      x, block1, block2 = self.dec_layers[i](x, enc_output, training,\n",
    "                                             look_ahead_mask, padding_mask)\n",
    "\n",
    "      attention_weights[f'decoder_layer{i+1}_block1'] = block1\n",
    "      attention_weights[f'decoder_layer{i+1}_block2'] = block2\n",
    "\n",
    "    # x.shape == (batch_size, target_seq_len, d_model)\n",
    "    return x, attention_weights"
   ]
  },
  {
   "cell_type": "markdown",
   "id": "8a0ac2a4",
   "metadata": {},
   "source": [
    "# Transformer\n",
    "A transformer consists of the encoder, decoder, and a final linear layer. The output of the decoder is the input to the linear layer and its output is returned.\n"
   ]
  },
  {
   "cell_type": "code",
   "execution_count": 41,
   "id": "5cfe453e",
   "metadata": {
    "ExecuteTime": {
     "end_time": "2022-08-23T18:35:23.757964Z",
     "start_time": "2022-08-23T18:35:23.754546Z"
    }
   },
   "outputs": [],
   "source": [
    "class Config(object):\n",
    "  def __init__(self, num_layers, d_model, dff, num_heads):\n",
    "    self.num_layers = num_layers\n",
    "    self.d_model = d_model\n",
    "    self.dff = dff\n",
    "    self.num_heads= num_heads"
   ]
  },
  {
   "cell_type": "code",
   "execution_count": 42,
   "id": "2c519e3b",
   "metadata": {
    "ExecuteTime": {
     "end_time": "2022-08-23T18:35:24.262686Z",
     "start_time": "2022-08-23T18:35:24.246224Z"
    }
   },
   "outputs": [],
   "source": [
    "from bert.loader import map_to_stock_variable_name\n",
    "\n",
    "class Transformer(tf.keras.Model):\n",
    "    def __init__(self, config,\n",
    "               target_vocab_size, \n",
    "               bert_config_file,\n",
    "               bert_training=False, \n",
    "               rate=0.1,\n",
    "               name='transformer'):\n",
    "      super(Transformer, self).__init__(name=name)\n",
    "\n",
    "      self.encoder = build_encoder(config_file=bert_config_file)\n",
    "      self.encoder.trainable = bert_training\n",
    "\n",
    "      self.decoder = Decoder(num_layers=config.num_layers, d_model=config.d_model,\n",
    "                           num_heads=config.num_heads, dff=config.dff,\n",
    "                           target_vocab_size=target_vocab_size, rate=rate)\n",
    "\n",
    "      self.final_layer = tf.keras.layers.Dense(target_vocab_size)\n",
    "\n",
    "\n",
    "    def load_stock_weights(self, bert: BertModelLayer, ckpt_file):\n",
    "      assert isinstance(bert, BertModelLayer), \"Expecting a BertModelLayer instance as first argument\"\n",
    "      assert tf.compat.v1.train.checkpoint_exists(ckpt_file), \"Checkpoint does not exist: {}\".format(ckpt_file)\n",
    "      # returns CheckpointReader for checkpoint found in ckpt_dir_or_file.  \n",
    "      ckpt_reader = tf.train.load_checkpoint(ckpt_file)\n",
    "\n",
    "      bert_prefix = 'transformer/bert'\n",
    "\n",
    "      weights = []\n",
    "      for weight in bert.weights:\n",
    "          stock_name = map_to_stock_variable_name(weight.name, bert_prefix)\n",
    "          if ckpt_reader.has_tensor(stock_name):\n",
    "              value = ckpt_reader.get_tensor(stock_name)\n",
    "              weights.append(value)\n",
    "          else:\n",
    "              raise ValueError(\"No value for:[{}], i.e.:[{}] in:[{}]\".format(weight.name, stock_name, ckpt_file))\n",
    "      bert.set_weights(weights)\n",
    "      print(\"Done loading {} BERT weights from: {} into {} (prefix:{})\".format(\n",
    "          len(weights), ckpt_file, bert, bert_prefix))\n",
    "\n",
    "    def restore_encoder(self, bert_ckpt_file):\n",
    "      # loading the original pre-trained weights into the BERT layer:\n",
    "      self.load_stock_weights(self.encoder, bert_ckpt_file)\n",
    "\n",
    "    def call(self, inp, tar, training, look_ahead_mask, dec_padding_mask):\n",
    "      enc_output = self.encoder(inp, training=self.encoder.trainable)  # (batch_size, inp_seq_len, d_model)\n",
    "\n",
    "      # dec_output.shape == (batch_size, tar_seq_len, d_model)\n",
    "      dec_output, attention_weights = self.decoder(\n",
    "          tar, enc_output, training, look_ahead_mask, dec_padding_mask)\n",
    "\n",
    "      final_output = self.final_layer(dec_output)  # (batch_size, tar_seq_len, target_vocab_size)\n",
    "\n",
    "      return final_output, attention_weights"
   ]
  },
  {
   "cell_type": "markdown",
   "id": "2c16a44e",
   "metadata": {},
   "source": [
    "# Fine-tuning model and hyperparameters"
   ]
  },
  {
   "cell_type": "code",
   "execution_count": 43,
   "id": "8558d952",
   "metadata": {
    "ExecuteTime": {
     "end_time": "2022-08-23T18:35:24.416264Z",
     "start_time": "2022-08-23T18:35:24.411376Z"
    }
   },
   "outputs": [],
   "source": [
    "target_vocab_size = tokenizer_nld.vocab_size + 2\n",
    "dropout_rate = 0.15\n",
    "config = Config(num_layers=6, d_model=512, dff=1024, num_heads=8)"
   ]
  },
  {
   "cell_type": "code",
   "execution_count": 44,
   "id": "2cb18fe4",
   "metadata": {
    "ExecuteTime": {
     "end_time": "2022-08-23T18:35:26.561412Z",
     "start_time": "2022-08-23T18:35:24.496824Z"
    }
   },
   "outputs": [
    {
     "name": "stdout",
     "output_type": "stream",
     "text": [
      "(64, 50)\n",
      "(64, 50, 18309)\n",
      "WARNING:tensorflow:From /var/folders/jd/ll0by25n4ln09rznyqbztdyw0000gn/T/ipykernel_90191/3340841461.py:24: checkpoint_exists (from tensorflow.python.training.checkpoint_management) is deprecated and will be removed in a future version.\n",
      "Instructions for updating:\n",
      "Use standard file APIs to check for files with this prefix.\n",
      "Done loading 196 BERT weights from: uncased_L-12_H-768_A-12/bert_model.ckpt into <bert.model.BertModelLayer object at 0x1056ca040> (prefix:transformer/bert)\n"
     ]
    }
   ],
   "source": [
    "MODEL_DIR = \"uncased_L-12_H-768_A-12\"\n",
    "bert_config_file = os.path.join(MODEL_DIR, \"bert_config.json\")\n",
    "bert_ckpt_file = os.path.join(MODEL_DIR, 'bert_model.ckpt')\n",
    "MAX_TOKENS = 128\n",
    "transformer = Transformer(config=config,\n",
    "                          target_vocab_size=target_vocab_size,\n",
    "                          bert_config_file=bert_config_file)\n",
    "  \n",
    "inp = tf.random.uniform((BATCH_SIZE, MAX_SEQ_LENGTH))\n",
    "tar_inp = tf.random.uniform((BATCH_SIZE, MAX_SEQ_LENGTH))\n",
    "fn_out, _ = transformer(inp, tar_inp, \n",
    "                        True,\n",
    "                        look_ahead_mask=None,\n",
    "                        dec_padding_mask=None)\n",
    "print(tar_inp.shape) # (batch_size, tar_seq_len) \n",
    "print(fn_out.shape)  # (batch_size, tar_seq_len, target_vocab_size) \n",
    "\n",
    "# init bert pre-trained weights\n",
    "transformer.restore_encoder(bert_ckpt_file)"
   ]
  },
  {
   "cell_type": "code",
   "execution_count": 45,
   "id": "1933fcde",
   "metadata": {
    "ExecuteTime": {
     "end_time": "2022-08-23T18:35:26.569896Z",
     "start_time": "2022-08-23T18:35:26.562282Z"
    }
   },
   "outputs": [
    {
     "name": "stdout",
     "output_type": "stream",
     "text": [
      "Model: \"transformer\"\n",
      "_________________________________________________________________\n",
      "Layer (type)                 Output Shape              Param #   \n",
      "=================================================================\n",
      "bert (BertModelLayer)        multiple                  108890112 \n",
      "_________________________________________________________________\n",
      "decoder (Decoder)            multiple                  29873664  \n",
      "_________________________________________________________________\n",
      "dense_60 (Dense)             multiple                  9392517   \n",
      "=================================================================\n",
      "Total params: 148,156,293\n",
      "Trainable params: 39,266,181\n",
      "Non-trainable params: 108,890,112\n",
      "_________________________________________________________________\n"
     ]
    }
   ],
   "source": [
    "transformer.summary()"
   ]
  },
  {
   "cell_type": "markdown",
   "id": "5add015f",
   "metadata": {},
   "source": [
    "Using the Adam optimizer with a custom learning rate scheduler according to the formula in ['Attention is all you need'](https://arxiv.org/abs/1706.03762).\n",
    "\n",
    "$$\\Large{lrate = d_{model}^{-0.5} * \\min(step{\\_}num^{-0.5}, step{\\_}num \\cdot warmup{\\_}steps^{-1.5})}$$"
   ]
  },
  {
   "cell_type": "code",
   "execution_count": 46,
   "id": "a77e033f",
   "metadata": {
    "ExecuteTime": {
     "end_time": "2022-08-23T18:35:35.620484Z",
     "start_time": "2022-08-23T18:35:35.613948Z"
    }
   },
   "outputs": [],
   "source": [
    "# to modulate how the learning rate of your optimizer changes over time\n",
    "class CustomSchedule(tf.keras.optimizers.schedules.LearningRateSchedule):\n",
    "    def __init__(self, d_model, warmup_steps=4000):\n",
    "        super(CustomSchedule, self).__init__()\n",
    "\n",
    "        self.d_model = d_model\n",
    "        self.d_model = tf.cast(self.d_model, tf.float32)\n",
    "\n",
    "        self.warmup_steps = warmup_steps\n",
    "    \n",
    "    def __call__(self, step):\n",
    "        # reciprocal of square root\n",
    "        arg1 = tf.math.rsqrt(step)\n",
    "        arg2 = step * (self.warmup_steps ** -1.5)\n",
    "\n",
    "        return tf.math.rsqrt(self.d_model) * tf.math.minimum(arg1, arg2)"
   ]
  },
  {
   "cell_type": "code",
   "execution_count": 47,
   "id": "f663df41",
   "metadata": {
    "ExecuteTime": {
     "end_time": "2022-08-23T18:35:36.747473Z",
     "start_time": "2022-08-23T18:35:36.743380Z"
    }
   },
   "outputs": [],
   "source": [
    "learning_rate = CustomSchedule(config.d_model)\n",
    "\n",
    "optimizer = tf.keras.optimizers.Adam(learning_rate, beta_1=0.9, beta_2=0.98,\n",
    "                                     epsilon=1e-9)"
   ]
  },
  {
   "cell_type": "code",
   "execution_count": 48,
   "id": "0427c58c",
   "metadata": {
    "ExecuteTime": {
     "end_time": "2022-08-23T18:35:37.344260Z",
     "start_time": "2022-08-23T18:35:37.133414Z"
    }
   },
   "outputs": [
    {
     "data": {
      "text/plain": [
       "Text(0.5, 0, 'Train Step')"
      ]
     },
     "execution_count": 48,
     "metadata": {},
     "output_type": "execute_result"
    },
    {
     "data": {
      "image/png": "[encoded data removed]",
      "text/plain": [
       "<Figure size 432x288 with 1 Axes>"
      ]
     },
     "metadata": {
      "needs_background": "light"
     },
     "output_type": "display_data"
    }
   ],
   "source": [
    "temp_learning_rate_schedule = CustomSchedule(config.d_model)\n",
    "import matplotlib.pyplot as plt\n",
    "\n",
    "plt.plot(temp_learning_rate_schedule(tf.range(40000, dtype=tf.float32)))\n",
    "plt.ylabel(\"Learning Rate\")\n",
    "plt.xlabel(\"Train Step\")"
   ]
  },
  {
   "cell_type": "markdown",
   "id": "a8b484b0",
   "metadata": {},
   "source": [
    "# Loss and Metrics\n",
    "Since the target sequences are padded, it is important to apply a padding mask when calculating the loss."
   ]
  },
  {
   "cell_type": "code",
   "execution_count": 49,
   "id": "9ce47421",
   "metadata": {
    "ExecuteTime": {
     "end_time": "2022-08-23T18:35:38.378082Z",
     "start_time": "2022-08-23T18:35:38.374635Z"
    }
   },
   "outputs": [],
   "source": [
    "loss_object = tf.keras.losses.SparseCategoricalCrossentropy(\n",
    "    from_logits=True, reduction='none')"
   ]
  },
  {
   "cell_type": "code",
   "execution_count": 50,
   "id": "dbdf296c",
   "metadata": {
    "ExecuteTime": {
     "end_time": "2022-08-23T18:35:38.632350Z",
     "start_time": "2022-08-23T18:35:38.628179Z"
    }
   },
   "outputs": [],
   "source": [
    "def loss_function(real, pred):\n",
    "    # performs logical NOT of real==0\n",
    "    mask = tf.math.logical_not(tf.math.equal(real, 0))\n",
    "    loss_ = loss_object(real, pred)\n",
    "\n",
    "    mask = tf.cast(mask, dtype=loss_.dtype)\n",
    "    loss_ *= mask\n",
    "    \n",
    "    # computes the sum of elements across dimensions of a tensor.\n",
    "    return tf.reduce_sum(loss_)/tf.reduce_sum(mask)"
   ]
  },
  {
   "cell_type": "code",
   "execution_count": 51,
   "id": "309babf0",
   "metadata": {
    "ExecuteTime": {
     "end_time": "2022-08-23T18:35:40.856434Z",
     "start_time": "2022-08-23T18:35:40.848724Z"
    }
   },
   "outputs": [],
   "source": [
    "def accuracy_function(real, pred):\n",
    "  accuracies = tf.equal(real, tf.argmax(pred, axis=2))\n",
    "\n",
    "  mask = tf.math.logical_not(tf.math.equal(real, 0))\n",
    "  accuracies = tf.math.logical_and(mask, accuracies)\n",
    "\n",
    "  accuracies = tf.cast(accuracies, dtype=tf.float32)\n",
    "  mask = tf.cast(mask, dtype=tf.float32)\n",
    "  return tf.reduce_sum(accuracies)/tf.reduce_sum(mask)"
   ]
  },
  {
   "cell_type": "code",
   "execution_count": 52,
   "id": "b1a0e574",
   "metadata": {
    "ExecuteTime": {
     "end_time": "2022-08-23T18:35:41.860507Z",
     "start_time": "2022-08-23T18:35:41.839335Z"
    }
   },
   "outputs": [],
   "source": [
    "train_loss = tf.keras.metrics.Mean(name='train_loss')\n",
    "train_accuracy = tf.keras.metrics.Mean(name='train_accuracy')"
   ]
  },
  {
   "cell_type": "markdown",
   "id": "8300fd9e",
   "metadata": {},
   "source": [
    "# Training and checkpointing\n",
    "Create the checkpoint path and the checkpoint manager. This will be used to save checkpoints every n epochs."
   ]
  },
  {
   "cell_type": "code",
   "execution_count": 53,
   "id": "55fe03d0",
   "metadata": {
    "ExecuteTime": {
     "end_time": "2022-08-23T18:35:44.055865Z",
     "start_time": "2022-08-23T18:35:43.226539Z"
    }
   },
   "outputs": [
    {
     "name": "stdout",
     "output_type": "stream",
     "text": [
      "Latest checkpoint restored!!\n"
     ]
    }
   ],
   "source": [
    "checkpoint_path = './checkpoints/train'\n",
    "\n",
    "ckpt = tf.train.Checkpoint(transformer=transformer,\n",
    "                           optimizer=optimizer)\n",
    "\n",
    "ckpt_manager = tf.train.CheckpointManager(ckpt, checkpoint_path, max_to_keep=5)\n",
    "\n",
    "# if a checkpoint exists, restore the latest checkpoint.\n",
    "if ckpt_manager.latest_checkpoint:\n",
    "  ckpt.restore(ckpt_manager.latest_checkpoint)\n",
    "  print('Latest checkpoint restored!!')"
   ]
  },
  {
   "cell_type": "markdown",
   "id": "bb3221fc",
   "metadata": {},
   "source": [
    "The target is divided into tar_inp and tar_real. tar_inp is passed as an input to the decoder. tar_real is that same input shifted by 1: At each location in tar_input, tar_real contains the next token that should be predicted.\n",
    "\n",
    "Training uses teacher forcing. Teacher forcing is passing the true output to the next time step regardless of what the model predicts at the current time step.\n",
    "\n",
    "As the transformer predicts each word, self-attention allows it to look at the previous words in the input sequence to better predict the next word.\n",
    "\n",
    "To prevent the model from peaking at the expected output, the model uses a look-ahead mask."
   ]
  },
  {
   "cell_type": "code",
   "execution_count": 54,
   "id": "756a9d8a",
   "metadata": {
    "ExecuteTime": {
     "end_time": "2022-08-23T18:35:44.875072Z",
     "start_time": "2022-08-23T18:35:44.869191Z"
    }
   },
   "outputs": [],
   "source": [
    "def create_masks(inp, tar):\n",
    "    # Used in the 2nd attention block in the decoder.\n",
    "    # This padding mask is used to mask the encoder outputs.\n",
    "    dec_padding_mask = create_padding_mask(inp)\n",
    "\n",
    "    # Used in the 1st attention block in the decoder.\n",
    "    # It is used to pad and mask future tokens in the input received by \n",
    "    # the decoder.\n",
    "    look_ahead_mask = create_look_ahead_mask(tf.shape(tar)[1])\n",
    "    dec_target_padding_mask = create_padding_mask(tar)\n",
    "    combined_mask = tf.maximum(dec_target_padding_mask, look_ahead_mask)\n",
    "\n",
    "    return combined_mask, dec_padding_mask"
   ]
  },
  {
   "cell_type": "code",
   "execution_count": 55,
   "id": "19c40951",
   "metadata": {
    "ExecuteTime": {
     "end_time": "2022-08-23T18:35:46.113862Z",
     "start_time": "2022-08-23T18:35:46.107810Z"
    }
   },
   "outputs": [],
   "source": [
    "# The @tf.function trace-compiles train_step into a TF graph for faster\n",
    "# execution. The function specializes to the precise shape of the argument\n",
    "# tensors. To avoid re-tracing due to the variable sequence lengths or variable\n",
    "# batch sizes (the last batch is smaller), use input_signature to specify\n",
    "# more generic shapes.\n",
    "@tf.function\n",
    "def train_st(inp, tar):\n",
    "    tar_inp = tar[:, :-1]\n",
    "    tar_real = tar[:, 1:]\n",
    "\n",
    "    combined_mask, dec_padding_mask = create_masks(inp, tar_inp)\n",
    "\n",
    "    # tf.GradientTape() records operations for automatic differentiation\n",
    "    with tf.GradientTape() as tape:\n",
    "        predictions, _ = transformer(inp, tar_inp, \n",
    "                                     True,\n",
    "                                     combined_mask,\n",
    "                                     dec_padding_mask)\n",
    "        loss = loss_function(tar_real, predictions)\n",
    "\n",
    "    gradients = tape.gradient(loss, transformer.trainable_variables)\n",
    "    optimizer.apply_gradients(zip(gradients, transformer.trainable_variables))\n",
    "\n",
    "    train_loss(loss)\n"
   ]
  },
  {
   "cell_type": "code",
   "execution_count": null,
   "id": "5c470a31",
   "metadata": {
    "ExecuteTime": {
     "end_time": "2022-08-23T18:33:28.623529Z",
     "start_time": "2022-08-23T18:31:18.360738Z"
    }
   },
   "outputs": [],
   "source": [
    "EPOCHS = 20\n",
    "\n",
    "for epoch in range(EPOCHS):\n",
    "    start = time.time()\n",
    "\n",
    "    train_loss.reset_states()\n",
    "    train_accuracy.reset_states()\n",
    "\n",
    "    # inp -> dutch, tar -> english\n",
    "    for (batch, (inp, tar)) in enumerate(train_dataset):\n",
    "        train_st(inp, tar)\n",
    "\n",
    "        if batch % 10 == 0:\n",
    "            print('Epoch {} Batch {} Loss {:.4f} Accuracy {:.4f}'.format(\n",
    "                epoch + 1, batch, train_loss.result(), train_accuracy.result()))\n",
    "\n",
    "    if (epoch + 1) % 1 == 0:\n",
    "        ckpt_save_path = ckpt_manager.save()\n",
    "        print('Saving checkpoint for epoch {} at {}'.format(epoch + 1,\n",
    "                                                            ckpt_save_path))\n",
    "\n",
    "    print('Epoch {} Loss {:.4f} Accuracy {:.4f}'.format(epoch + 1,\n",
    "                                                        train_loss.result(),\n",
    "                                                        train_accuracy.result()))\n",
    "\n",
    "    print('Time taken for 1 epoch: {} secs\\n'.format(time.time() - start))"
   ]
  },
  {
   "cell_type": "markdown",
   "id": "72fb637a",
   "metadata": {},
   "source": [
    "# Evaluate\n",
    "\n",
    "The following steps are used for evaluation:\n",
    "\n",
    "Encode the input sentence using the english tokenizer (tokenizer_en). Moreover, add the start and end token so the input is equivalent to what the model is trained with. This is the encoder input.\n",
    "\n",
    "The decoder input is the start token == tokenizer_nld.vocab_size.\n",
    "\n",
    "Calculate the padding masks and the look ahead masks.\n",
    "\n",
    "The decoder then outputs the predictions by looking at the encoder output and its own output (self-attention).\n",
    "\n",
    "Select the last word and calculate the argmax of that.\n",
    "\n",
    "Concatentate the predicted word to the decoder input as pass it to the decoder.\n",
    "\n",
    "In this approach, the decoder predicts the next word based on the previous words it predicted."
   ]
  },
  {
   "cell_type": "code",
   "execution_count": 56,
   "id": "e658be32",
   "metadata": {
    "ExecuteTime": {
     "end_time": "2022-08-23T18:36:02.165081Z",
     "start_time": "2022-08-23T18:36:02.160010Z"
    }
   },
   "outputs": [],
   "source": [
    "def encode_en(en):\n",
    "    seq_length = MAX_SEQ_LENGTH\n",
    "    tokens_en = tokenizer_en.tokenize(en)\n",
    "    lang1 = tokenizer_en.convert_tokens_to_ids(['[CLS]'] + tokens_en + ['[SEP]'])\n",
    "    if len(lang1)<seq_length:\n",
    "        # makes token list equal to length of seq_length\n",
    "        lang1 = lang1 + list(np.zeros(seq_length - len(lang1), 'int32'))\n",
    "    return lang1"
   ]
  },
  {
   "cell_type": "code",
   "execution_count": 57,
   "id": "b1edf94c",
   "metadata": {
    "ExecuteTime": {
     "end_time": "2022-08-23T18:36:03.159951Z",
     "start_time": "2022-08-23T18:36:03.152091Z"
    }
   },
   "outputs": [],
   "source": [
    "def evaluate(transformer, inp_sentence):\n",
    "    # normalize input sentence\n",
    "    inp_sentence = encode_en(inp_sentence)\n",
    "#     encoder_input = inp_sentence\n",
    "    encoder_input = tf.expand_dims(inp_sentence, 0)\n",
    "#     multiply = tf.constant([64])\n",
    "#     encoder_input = tf.reshape(tf.tile(encoder_input, multiply), [ multiply[0], tf.shape(encoder_input)[0]])\n",
    "\n",
    "    # as the target is english, the first word to the transformer should be the\n",
    "    # english start token.\n",
    "    decoder_input = [tokenizer_nld.vocab_size]\n",
    "    output = tf.expand_dims(decoder_input, 0)\n",
    "\n",
    "    for i in range(MAX_SEQ_LENGTH):\n",
    "        combined_mask, dec_padding_mask = create_masks(\n",
    "            encoder_input, output)\n",
    "\n",
    "        # predictions.shape == (batch_size, seq_len, vocab_size)\n",
    "        predictions, attention_weights = transformer(encoder_input,\n",
    "                                                     output,\n",
    "                                                     False,\n",
    "                                                     combined_mask,\n",
    "                                                     dec_padding_mask)\n",
    "\n",
    "        # select the last word from the seq_len dimension\n",
    "        predictions = predictions[:, -1:, :]  # (batch_size, 1, vocab_size)\n",
    "\n",
    "        predicted_id = tf.cast(tf.argmax(predictions, axis=-1), tf.int32)\n",
    "\n",
    "        # return the result if the predicted_id is equal to the end token\n",
    "        if tf.equal(predicted_id, tokenizer_nld.vocab_size + 1):\n",
    "            return tf.squeeze(output, axis=0), attention_weights\n",
    "\n",
    "        # concatentate the predicted_id to the output which is given to the decoder\n",
    "        # as its input.\n",
    "        output = tf.concat([output, predicted_id], axis=-1)\n",
    "\n",
    "    return tf.squeeze(output, axis=0), attention_weights"
   ]
  },
  {
   "cell_type": "code",
   "execution_count": 58,
   "id": "e3fd3e59",
   "metadata": {
    "ExecuteTime": {
     "end_time": "2022-08-23T18:36:04.872983Z",
     "start_time": "2022-08-23T18:36:04.868946Z"
    }
   },
   "outputs": [],
   "source": [
    "def translate(transformer, sentence):\n",
    "    result, attention_weights = evaluate(transformer, sentence)\n",
    "\n",
    "    predicted_sentence = tokenizer_nld.decode([i for i in result\n",
    "                                              if i < tokenizer_nld.vocab_size])\n",
    "\n",
    "    print('Input: {}'.format(sentence))\n",
    "    print('Predicted translation: {}'.format(predicted_sentence))"
   ]
  },
  {
   "cell_type": "code",
   "execution_count": null,
   "id": "0d9d211a",
   "metadata": {
    "ExecuteTime": {
     "end_time": "2022-08-23T18:34:47.013896Z",
     "start_time": "2022-08-23T18:34:46.951564Z"
    }
   },
   "outputs": [],
   "source": [
    "translate(transformer, 'time to chase money.')"
   ]
  },
  {
   "cell_type": "code",
   "execution_count": null,
   "id": "c54d06be",
   "metadata": {
    "ExecuteTime": {
     "end_time": "2022-08-08T14:09:55.560374Z",
     "start_time": "2022-08-08T14:09:55.511946Z"
    }
   },
   "outputs": [],
   "source": [
    "translate(transformer, 'when it rains, it pours.')"
   ]
  },
  {
   "cell_type": "code",
   "execution_count": null,
   "id": "5064f154",
   "metadata": {
    "ExecuteTime": {
     "end_time": "2022-08-08T14:09:56.127490Z",
     "start_time": "2022-08-08T14:09:56.089413Z"
    }
   },
   "outputs": [],
   "source": [
    "translate(transformer, 'you fumble the bag.')"
   ]
  },
  {
   "cell_type": "code",
   "execution_count": null,
   "id": "29b67bc1",
   "metadata": {
    "ExecuteTime": {
     "end_time": "2022-08-08T14:10:00.832122Z",
     "start_time": "2022-08-08T14:10:00.785366Z"
    }
   },
   "outputs": [],
   "source": [
    "translate(transformer, 'we want happiness.')"
   ]
  },
  {
   "cell_type": "code",
   "execution_count": null,
   "id": "669d73f1",
   "metadata": {},
   "outputs": [],
   "source": [
    "translate(transformer, \"please don't kill my vibe.\")"
   ]
  },
  {
   "cell_type": "code",
   "execution_count": null,
   "id": "95be89d8",
   "metadata": {},
   "outputs": [],
   "source": [
    "translate(transformer, 'i am proud of you.')"
   ]
  },
  {
   "cell_type": "code",
   "execution_count": null,
   "id": "e2438580",
   "metadata": {},
   "outputs": [],
   "source": [
    "translate(transformer, 'plentiful')"
   ]
  },
  {
   "cell_type": "markdown",
   "id": "206cfc97",
   "metadata": {
    "ExecuteTime": {
     "end_time": "2022-08-08T13:52:27.124013Z",
     "start_time": "2022-08-08T13:52:27.124008Z"
    }
   },
   "source": [
    "# Save weights"
   ]
  },
  {
   "cell_type": "code",
   "execution_count": 59,
   "id": "5df753d4",
   "metadata": {
    "ExecuteTime": {
     "end_time": "2022-08-23T18:36:16.694516Z",
     "start_time": "2022-08-23T18:36:15.110937Z"
    }
   },
   "outputs": [],
   "source": [
    "transformer.save_weights('bert_nmt_ckpt')"
   ]
  },
  {
   "cell_type": "code",
   "execution_count": 60,
   "id": "a6889451",
   "metadata": {
    "ExecuteTime": {
     "end_time": "2022-08-23T18:36:24.704380Z",
     "start_time": "2022-08-23T18:36:22.399649Z"
    }
   },
   "outputs": [
    {
     "data": {
      "text/plain": [
       "<tensorflow.python.training.tracking.util.CheckpointLoadStatus at 0x16c00a940>"
      ]
     },
     "execution_count": 60,
     "metadata": {},
     "output_type": "execute_result"
    }
   ],
   "source": [
    "new_transformer = Transformer(config=config,\n",
    "                          target_vocab_size=target_vocab_size,\n",
    "                          bert_config_file=bert_config_file)\n",
    "  \n",
    "fn_out, _ = new_transformer(inp, tar_inp, \n",
    "                        True,\n",
    "                        look_ahead_mask=None,\n",
    "                        dec_padding_mask=None)\n",
    "new_transformer.load_weights('bert_nmt_ckpt')"
   ]
  },
  {
   "cell_type": "code",
   "execution_count": null,
   "id": "5e6a4500",
   "metadata": {},
   "outputs": [],
   "source": [
    "translate(new_transformer, 'go to a party every day.')"
   ]
  },
  {
   "cell_type": "code",
   "execution_count": null,
   "id": "1697bb62",
   "metadata": {},
   "outputs": [],
   "source": [
    "translate(new_transformer, 'i dont like you, i love you.')"
   ]
  },
  {
   "cell_type": "code",
   "execution_count": null,
   "id": "ac234afc",
   "metadata": {},
   "outputs": [],
   "source": [
    "translate(new_transformer, 'i drink a lot of water.')"
   ]
  }
 ],
 "metadata": {
  "kernelspec": {
   "display_name": "Python [conda env:miniforge3-tensorflow] *",
   "language": "python",
   "name": "conda-env-miniforge3-tensorflow-py"
  },
  "language_info": {
   "codemirror_mode": {
    "name": "ipython",
    "version": 3
   },
   "file_extension": ".py",
   "mimetype": "text/x-python",
   "name": "python",
   "nbconvert_exporter": "python",
   "pygments_lexer": "ipython3",
   "version": "3.9.6"
  },
  "toc": {
   "base_numbering": 1,
   "nav_menu": {},
   "number_sections": true,
   "sideBar": true,
   "skip_h1_title": false,
   "title_cell": "Table of Contents",
   "title_sidebar": "Contents",
   "toc_cell": false,
   "toc_position": {},
   "toc_section_display": true,
   "toc_window_display": false
  }
 },
 "nbformat": 4,
 "nbformat_minor": 5
}
